{
 "cells": [
  {
   "cell_type": "code",
   "execution_count": 1,
   "id": "f6ada96d",
   "metadata": {},
   "outputs": [],
   "source": [
    "import cv2\n",
    "import numpy as np\n",
    "import matplotlib.pyplot as plt\n",
    "from sklearn.linear_model import LinearRegression\n",
    "from sklearn import metrics\n",
    "from sklearn.metrics import confusion_matrix, plot_confusion_matrix\n",
    "from sklearn.neighbors import KNeighborsClassifier\n",
    "from sklearn.model_selection import train_test_split"
   ]
  },
  {
   "cell_type": "code",
   "execution_count": 10,
   "id": "82898dab",
   "metadata": {},
   "outputs": [],
   "source": [
    "labels = np.uint8(np.loadtxt(\"label.txt\"))\n",
    "video_read = cv2.VideoCapture(\"test_dataset.avi\")\n",
    "\n",
    "video = []\n",
    "\n",
    "while True:\n",
    "    success, image = video_read.read()\n",
    "    \n",
    "    if not success:\n",
    "        break\n",
    "        \n",
    "    image = cv2.cvtColor(image, cv2.COLOR_RGB2GRAY)\n",
    "    video.append(image)"
   ]
  },
  {
   "cell_type": "code",
   "execution_count": 25,
   "id": "036b5613",
   "metadata": {},
   "outputs": [],
   "source": [
    "data = np.array(video).reshape((len(video), -1))\n",
    "x_train,x_test,y_train,y_test = train_test_split(data, labels , train_size = 0.7, random_state = 123)\n",
    "knn = KNeighborsClassifier()\n",
    "knn.fit(x_train,y_train)\n",
    "predicted = knn.predict(x_test)"
   ]
  },
  {
   "cell_type": "code",
   "execution_count": 26,
   "id": "737f0c38",
   "metadata": {},
   "outputs": [
    {
     "name": "stdout",
     "output_type": "stream",
     "text": [
      "[[0 0 0 ... 0 0 0]\n",
      " [1 1 1 ... 1 1 1]\n",
      " [0 0 0 ... 0 0 0]\n",
      " ...\n",
      " [2 1 0 ... 4 4 4]\n",
      " [0 0 0 ... 0 0 0]\n",
      " [0 1 2 ... 0 0 0]]\n"
     ]
    },
    {
     "data": {
      "image/png": "[encoded data removed]",
      "text/plain": [
       "<Figure size 432x288 with 2 Axes>"
      ]
     },
     "metadata": {
      "needs_background": "light"
     },
     "output_type": "display_data"
    }
   ],
   "source": [
    "x_test = np.array(x_test)\n",
    "print(x_test)\n",
    "y_test = np.array(y_test).reshape(-1 ,1)\n",
    "plot_confusion_matrix(knn ,x_test,y_test)\n",
    "plt.show()"
   ]
  },
  {
   "cell_type": "code",
   "execution_count": 30,
   "id": "3aa14bbd",
   "metadata": {},
   "outputs": [
    {
     "name": "stdout",
     "output_type": "stream",
     "text": [
      "              precision    recall  f1-score   support\n",
      "\n",
      "           0       0.98      0.99      0.98      1763\n",
      "           1       0.96      1.00      0.98      1999\n",
      "           2       0.98      0.96      0.97      1780\n",
      "           3       0.97      0.97      0.97      1837\n",
      "           4       0.97      0.97      0.97      1773\n",
      "           5       0.96      0.97      0.96      1623\n",
      "           6       0.97      0.99      0.98      1802\n",
      "           7       0.96      0.97      0.97      1886\n",
      "           8       0.99      0.91      0.95      1760\n",
      "           9       0.95      0.96      0.95      1777\n",
      "\n",
      "    accuracy                           0.97     18000\n",
      "   macro avg       0.97      0.97      0.97     18000\n",
      "weighted avg       0.97      0.97      0.97     18000\n",
      "\n"
     ]
    }
   ],
   "source": [
    "print(metrics.classification_report(y_test, predicted))"
   ]
  },
  {
   "cell_type": "code",
   "execution_count": 37,
   "id": "4b6b0262",
   "metadata": {},
   "outputs": [
    {
     "name": "stdout",
     "output_type": "stream",
     "text": [
      "0.9681111111111111\n"
     ]
    }
   ],
   "source": [
    "print(knn.score(x_test,y_test))"
   ]
  },
  {
   "cell_type": "code",
   "execution_count": null,
   "id": "283c15aa",
   "metadata": {},
   "outputs": [],
   "source": []
  }
 ],
 "metadata": {
  "kernelspec": {
   "display_name": "Python 3 (ipykernel)",
   "language": "python",
   "name": "python3"
  },
  "language_info": {
   "codemirror_mode": {
    "name": "ipython",
    "version": 3
   },
   "file_extension": ".py",
   "mimetype": "text/x-python",
   "name": "python",
   "nbconvert_exporter": "python",
   "pygments_lexer": "ipython3",
   "version": "3.9.7"
  }
 },
 "nbformat": 4,
 "nbformat_minor": 5
}
