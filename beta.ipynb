{
 "cells": [
  {
   "cell_type": "code",
   "execution_count": 53,
   "id": "e85e7b7d",
   "metadata": {},
   "outputs": [],
   "source": [
    "import numpy as np\n",
    "import matplotlib.pyplot as plt\n",
    "from sklearn.linear_model import LinearRegression\n",
    "from sklearn import metrics\n",
    "from sklearn.metrics import confusion_matrix, plot_confusion_matrix\n",
    "from sklearn.neighbors import KNeighborsClassifier\n",
    "from sklearn.model_selection import train_test_split"
   ]
  },
  {
   "cell_type": "code",
   "execution_count": 54,
   "id": "58eaf29a",
   "metadata": {},
   "outputs": [],
   "source": [
    "iris_x = np.float32(np.loadtxt(\"iris_x.txt\"))\n",
    "iris_y = np.float32(np.loadtxt(\"iris_y.txt\"))\n",
    "x_train,x_test,y_train,y_test = train_test_split(iris_x,iris_y,train_size = 0.7,random_state = 123)"
   ]
  },
  {
   "cell_type": "code",
   "execution_count": 55,
   "id": "82259558",
   "metadata": {},
   "outputs": [],
   "source": [
    "class LinearRegression_test():\n",
    "    def __init__(self):\n",
    "        self.beta = []\n",
    "    def fit(self,x_train,y_train):\n",
    "        x_train = np.insert(x_train,0,1,axis = 1)\n",
    "        x_train_T = np.transpose(x_train)\n",
    "        self.beta = np.dot(np.dot(np.linalg.inv(np.dot(x_train_T,x_train)),x_train_T),y_train)\n",
    "    def predict(self,x_test):\n",
    "        x_test = np.insert(x_test,0,1,axis = 1)\n",
    "        predicted = np.dot(x_test,self.beta)\n",
    "        return predicted"
   ]
  },
  {
   "cell_type": "code",
   "execution_count": 56,
   "id": "3ac386ea",
   "metadata": {},
   "outputs": [
    {
     "data": {
      "text/plain": [
       "array([ 1.3951778 ,  1.7971971 ,  1.9387069 ,  1.1493154 , -0.08825316,\n",
       "        1.555466  ,  1.1683389 , -0.02205229,  0.01688065,  1.1975981 ,\n",
       "        1.7959056 , -0.18424143,  1.2221899 ,  1.6638943 ,  1.9448267 ,\n",
       "        1.9654505 , -0.175011  , -0.1058217 ,  1.2951021 ,  0.01872322,\n",
       "       -0.10793534,  1.4296967 ,  0.06485131,  1.567358  , -0.06564108,\n",
       "       -0.0596672 ,  0.00541714,  1.7540019 ,  1.9961734 , -0.09238446,\n",
       "        1.7641304 ,  1.4718862 ,  0.01362413, -0.1001599 ,  0.9419167 ,\n",
       "        0.8916309 ,  1.7834859 ,  0.03030328, -0.06763239,  1.0325868 ,\n",
       "        0.9550477 , -0.12208688,  1.9995522 ,  1.8503894 ,  1.7255763 ],\n",
       "      dtype=float32)"
      ]
     },
     "execution_count": 56,
     "metadata": {},
     "output_type": "execute_result"
    }
   ],
   "source": [
    "test = LinearRegression_test()\n",
    "test.fit(x_train,y_train)\n",
    "predicted = test.predict(x_test)\n",
    "predicted\n",
    "\n"
   ]
  },
  {
   "cell_type": "code",
   "execution_count": 61,
   "id": "bbd3a6f4",
   "metadata": {},
   "outputs": [
    {
     "name": "stdout",
     "output_type": "stream",
     "text": [
      "[ 1.3952177   1.7972426   1.9387498   1.1493537  -0.08822301  1.555507\n",
      "  1.1683757  -0.02202436  0.01690674  1.197635    1.7959495  -0.18420184\n",
      "  1.2222233   1.66394     1.9448771   1.9654958  -0.1749771  -0.10579616\n",
      "  1.2951438   0.01875097 -0.10790277  1.4297397   0.06488478  1.5673997\n",
      " -0.06560498 -0.05963263  0.00544998  1.7540395   1.996233   -0.09235114\n",
      "  1.76418     1.4719234   0.01365441 -0.10012692  0.9419513   0.8916597\n",
      "  1.7835457   0.03034076 -0.0675967   1.0326233   0.95507514 -0.12205747\n",
      "  1.9996002   1.8504324   1.725615  ]\n",
      "1.0\n"
     ]
    }
   ],
   "source": [
    "test_1 = LinearRegression()\n",
    "test_1.fit(x_train,y_train)\n",
    "predicted = test_1.predict(x_test)\n",
    "\n",
    "\n",
    "print(predicted)\n",
    "print(test_1.score(x_test,predicted))"
   ]
  },
  {
   "cell_type": "code",
   "execution_count": null,
   "id": "d90a4b85",
   "metadata": {},
   "outputs": [],
   "source": []
  },
  {
   "cell_type": "code",
   "execution_count": null,
   "id": "6452180e",
   "metadata": {},
   "outputs": [],
   "source": []
  }
 ],
 "metadata": {
  "kernelspec": {
   "display_name": "Python 3 (ipykernel)",
   "language": "python",
   "name": "python3"
  },
  "language_info": {
   "codemirror_mode": {
    "name": "ipython",
    "version": 3
   },
   "file_extension": ".py",
   "mimetype": "text/x-python",
   "name": "python",
   "nbconvert_exporter": "python",
   "pygments_lexer": "ipython3",
   "version": "3.9.7"
  }
 },
 "nbformat": 4,
 "nbformat_minor": 5
}
